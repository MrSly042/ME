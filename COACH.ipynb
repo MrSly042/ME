{
 "cells": [
  {
   "cell_type": "code",
   "execution_count": 6,
   "id": "f27cd9e8",
   "metadata": {},
   "outputs": [
    {
     "name": "stdout",
     "output_type": "stream",
     "text": [
      "ENTER THE NUMBER OF HOUSES: 400\n",
      "0%\n"
     ]
    }
   ],
   "source": [
    "try: \n",
    "    houses = int(input(\"ENTER THE NUMBER OF HOUSES: \"))\n",
    "\n",
    "    \n",
    "    if houses == 3:\n",
    "        b = houses -1\n",
    "        k = b*100\n",
    "        t = round(k/houses)\n",
    "        print(t)\n",
    "    else :\n",
    "        k = round(200/houses)\n",
    "        print(str(k) + \"%\")\n",
    "except ZeroDivisionError:(\"Divided with zero\")"
   ]
  },
  {
   "cell_type": "code",
   "execution_count": 7,
   "id": "4fd6c02d",
   "metadata": {},
   "outputs": [
    {
     "name": "stdout",
     "output_type": "stream",
     "text": [
      "THIS IS A WALRUS OPERATOR ':=': ok\n",
      "ok\n"
     ]
    }
   ],
   "source": [
    "print(A:=input(\"THIS IS A WALRUS OPERATOR ':=': \"))"
   ]
  },
  {
   "cell_type": "code",
   "execution_count": 8,
   "id": "ca358af0",
   "metadata": {},
   "outputs": [
    {
     "name": "stdout",
     "output_type": "stream",
     "text": [
      "hi\n",
      "None\n"
     ]
    }
   ],
   "source": [
    "def hu():\n",
    "    print(\"hi\")\n",
    "v = hu()\n",
    "print(v)"
   ]
  },
  {
   "cell_type": "code",
   "execution_count": null,
   "id": "5907a4e9",
   "metadata": {},
   "outputs": [],
   "source": [
    "#NONE\n",
    "#WALRUS\n",
    "#QUOTIENT\n",
    "#STANDARD LIB\n",
    "##EXCEPTIONS"
   ]
  },
  {
   "cell_type": "code",
   "execution_count": 9,
   "id": "58ba3dc4",
   "metadata": {},
   "outputs": [],
   "source": [
    "my = open(\"UNI.txt\", \"a\")\n"
   ]
  },
  {
   "cell_type": "code",
   "execution_count": 10,
   "id": "5518f5b9",
   "metadata": {},
   "outputs": [
    {
     "name": "stdout",
     "output_type": "stream",
     "text": [
      ": kill john\n",
      "You killed \"john\"\n",
      ": say bye\n",
      "You said \"bye\"\n",
      ": \n"
     ]
    },
    {
     "ename": "IndexError",
     "evalue": "list index out of range",
     "output_type": "error",
     "traceback": [
      "\u001b[1;31m---------------------------------------------------------------------------\u001b[0m",
      "\u001b[1;31mIndexError\u001b[0m                                Traceback (most recent call last)",
      "\u001b[1;32m<ipython-input-10-20d8106e1233>\u001b[0m in \u001b[0;36m<module>\u001b[1;34m\u001b[0m\n\u001b[0;32m     26\u001b[0m \u001b[1;33m\u001b[0m\u001b[0m\n\u001b[0;32m     27\u001b[0m \u001b[1;32mwhile\u001b[0m \u001b[1;32mTrue\u001b[0m\u001b[1;33m:\u001b[0m\u001b[1;33m\u001b[0m\u001b[1;33m\u001b[0m\u001b[0m\n\u001b[1;32m---> 28\u001b[1;33m   \u001b[0mget_input\u001b[0m\u001b[1;33m(\u001b[0m\u001b[1;33m)\u001b[0m\u001b[1;33m\u001b[0m\u001b[1;33m\u001b[0m\u001b[0m\n\u001b[0m\u001b[0;32m     29\u001b[0m \u001b[1;31m#EXTRA SPECIAL CODE\u001b[0m\u001b[1;33m\u001b[0m\u001b[1;33m\u001b[0m\u001b[1;33m\u001b[0m\u001b[0m\n",
      "\u001b[1;32m<ipython-input-10-20d8106e1233>\u001b[0m in \u001b[0;36mget_input\u001b[1;34m()\u001b[0m\n\u001b[0;32m      1\u001b[0m \u001b[1;32mdef\u001b[0m \u001b[0mget_input\u001b[0m\u001b[1;33m(\u001b[0m\u001b[1;33m)\u001b[0m\u001b[1;33m:\u001b[0m\u001b[1;33m\u001b[0m\u001b[1;33m\u001b[0m\u001b[0m\n\u001b[0;32m      2\u001b[0m   \u001b[0mcommand\u001b[0m \u001b[1;33m=\u001b[0m \u001b[0minput\u001b[0m\u001b[1;33m(\u001b[0m\u001b[1;34m\": \"\u001b[0m\u001b[1;33m)\u001b[0m\u001b[1;33m.\u001b[0m\u001b[0msplit\u001b[0m\u001b[1;33m(\u001b[0m\u001b[1;33m)\u001b[0m\u001b[1;33m\u001b[0m\u001b[1;33m\u001b[0m\u001b[0m\n\u001b[1;32m----> 3\u001b[1;33m   \u001b[0mverb_word\u001b[0m \u001b[1;33m=\u001b[0m \u001b[0mcommand\u001b[0m\u001b[1;33m[\u001b[0m\u001b[1;36m0\u001b[0m\u001b[1;33m]\u001b[0m\u001b[1;33m\u001b[0m\u001b[1;33m\u001b[0m\u001b[0m\n\u001b[0m\u001b[0;32m      4\u001b[0m   \u001b[1;32mif\u001b[0m \u001b[0mverb_word\u001b[0m \u001b[1;32min\u001b[0m \u001b[0mverb_dict\u001b[0m\u001b[1;33m:\u001b[0m\u001b[1;33m\u001b[0m\u001b[1;33m\u001b[0m\u001b[0m\n\u001b[0;32m      5\u001b[0m     \u001b[0mverb\u001b[0m \u001b[1;33m=\u001b[0m \u001b[0mverb_dict\u001b[0m\u001b[1;33m[\u001b[0m\u001b[0mverb_word\u001b[0m\u001b[1;33m]\u001b[0m\u001b[1;33m\u001b[0m\u001b[1;33m\u001b[0m\u001b[0m\n",
      "\u001b[1;31mIndexError\u001b[0m: list index out of range"
     ]
    }
   ],
   "source": [
    "def get_input():\n",
    "  command = input(\": \").split()\n",
    "  verb_word = command[0]\n",
    "  if verb_word in verb_dict:\n",
    "    verb = verb_dict[verb_word]\n",
    "  else:\n",
    "    print(\"Unknown verb {}\". format(verb_word))\n",
    "    return\n",
    "\n",
    "  if len(command) >= 2:\n",
    "    noun_word = command[1]\n",
    "    print (verb(noun_word))\n",
    "  else:\n",
    "    print(verb(\"nothing\"))\n",
    "\n",
    "def say(noun):\n",
    "  return 'You said \"{}\"'.format(noun)\n",
    "\n",
    "def kill(noun):\n",
    "  return 'You killed \"{}\"'.format(noun)\n",
    "\n",
    "verb_dict = {\n",
    "  \"say\": say,\n",
    "  \"kill\": kill,\n",
    "}\n",
    "\n",
    "while True:\n",
    "  get_input()\n",
    "#EXTRA SPECIAL CODE"
   ]
  },
  {
   "cell_type": "code",
   "execution_count": 11,
   "id": "c59418cf",
   "metadata": {},
   "outputs": [],
   "source": [
    "class GameObject:\n",
    "  class_name = \"\"\n",
    "  desc = \"\"\n",
    "  objects = {}\n",
    "\n",
    "  def __init__(self, name):\n",
    "    self.name = name\n",
    "    GameObject.objects[self.class_name] = self\n",
    "\n",
    "  def get_desc(self):\n",
    "    return self.class_name + \"\\n\" + self.desc\n",
    "\n",
    "class Goblin(GameObject):\n",
    "  class_name = \"goblin\"\n",
    "  desc = \"A foul creature\"\n",
    "\n",
    "goblin = Goblin(\"Gobbly\")\n",
    "\n",
    "def examine(noun):\n",
    "  if noun in GameObject.objects:\n",
    "    return GameObject.objects[noun].get_desc()\n",
    "  else:\n",
    "    return \"There is no {} here.\".format(noun)\n",
    "verb_dict = {\n",
    "  \"examine\": examine,\n",
    "}\n"
   ]
  },
  {
   "cell_type": "code",
   "execution_count": 15,
   "id": "22889249",
   "metadata": {},
   "outputs": [
    {
     "name": "stdout",
     "output_type": "stream",
     "text": [
      ": hit goblin\n",
      "Unknown verb hit\n"
     ]
    }
   ],
   "source": [
    "class Goblin(GameObject):\n",
    "  def __init__(self, name):\n",
    "    self.class_name = \"goblin\"\n",
    "    self.health = 3\n",
    "    self._desc = \" A foul creature\"\n",
    "    super().__init__(name)\n",
    "\n",
    "  @property\n",
    "  def desc(self):\n",
    "    if self.health >=3:\n",
    "      return self._desc\n",
    "    elif self.health == 2:\n",
    "      health_line = \"It has a wound on its knee.\"\n",
    "    elif self.health == 1:\n",
    "      health_line = \"Its left arm has been cut off!\"\n",
    "    elif self.health <= 0:\n",
    "      health_line = \"It is dead.\"\n",
    "    return self._desc + \"\\n\" + health_line\n",
    "\n",
    "  @desc.setter\n",
    "  def desc(self, value):\n",
    "    self._desc = value\n",
    "\n",
    "def hit(noun):\n",
    "  if noun in GameObject.objects:\n",
    "    thing = GameObject.objects[noun]\n",
    "    if type(thing) == Goblin:\n",
    "      thing.health = thing.health - 1\n",
    "      if thing.health <= 0:\n",
    "        msg = \"You killed the goblin!\"\n",
    "      else:\n",
    "        msg = \"You hit the {}\".format(thing.class_name)\n",
    "  else:\n",
    "    msg =\"There is no {} here.\".format(noun)\n",
    "  return msg\n",
    "get_input()\n",
    "verb_dict = {\n",
    "  \"say\": say,\n",
    "  \"examine\": examine,\n",
    "}"
   ]
  },
  {
   "cell_type": "code",
   "execution_count": 19,
   "id": "a6bc3566",
   "metadata": {},
   "outputs": [
    {
     "name": "stdout",
     "output_type": "stream",
     "text": [
      "Enter a filename: UNI.txt\n",
      "\n"
     ]
    }
   ],
   "source": [
    "res = input(\"Enter a filename: \")\n",
    "with open(res) as f:\n",
    "    text = f.read()\n",
    "print(text)"
   ]
  },
  {
   "cell_type": "code",
   "execution_count": 2,
   "id": "79181e13",
   "metadata": {},
   "outputs": [
    {
     "name": "stdout",
     "output_type": "stream",
     "text": [
      "Match\n"
     ]
    }
   ],
   "source": [
    "import re\n",
    "pattern = r\"has\"\n",
    "if re.match(pattern,\"hashashas\"):\n",
    "    print(\"Match\")\n",
    "else:\n",
    "    print(\"No match\")"
   ]
  },
  {
   "cell_type": "code",
   "execution_count": 25,
   "id": "533064b2",
   "metadata": {},
   "outputs": [
    {
     "ename": "SyntaxError",
     "evalue": "unexpected EOF while parsing (<ipython-input-25-3bc4dc4a5364>, line 6)",
     "output_type": "error",
     "traceback": [
      "\u001b[1;36m  File \u001b[1;32m\"<ipython-input-25-3bc4dc4a5364>\"\u001b[1;36m, line \u001b[1;32m6\u001b[0m\n\u001b[1;33m    print(re.findall((pattern,\"hashashas\"))\u001b[0m\n\u001b[1;37m                                           ^\u001b[0m\n\u001b[1;31mSyntaxError\u001b[0m\u001b[1;31m:\u001b[0m unexpected EOF while parsing\n"
     ]
    }
   ],
   "source": [
    "das = [\"hash\", \"mad\", \"mash\"]\n",
    "if re.search(pattern,\"hashashas\"):\n",
    "    print(\"Match\")\n",
    "else:\n",
    "    print(\"No match\")\n",
    "#print(re.findall((pattern,\"hashashas\"))"
   ]
  },
  {
   "cell_type": "code",
   "execution_count": 26,
   "id": "242e6f61",
   "metadata": {},
   "outputs": [
    {
     "name": "stdout",
     "output_type": "stream",
     "text": [
      "The Zen of Python, by Tim Peters\n",
      "\n",
      "Beautiful is better than ugly.\n",
      "Explicit is better than implicit.\n",
      "Simple is better than complex.\n",
      "Complex is better than complicated.\n",
      "Flat is better than nested.\n",
      "Sparse is better than dense.\n",
      "Readability counts.\n",
      "Special cases aren't special enough to break the rules.\n",
      "Although practicality beats purity.\n",
      "Errors should never pass silently.\n",
      "Unless explicitly silenced.\n",
      "In the face of ambiguity, refuse the temptation to guess.\n",
      "There should be one-- and preferably only one --obvious way to do it.\n",
      "Although that way may not be obvious at first unless you're Dutch.\n",
      "Now is better than never.\n",
      "Although never is often better than *right* now.\n",
      "If the implementation is hard to explain, it's a bad idea.\n",
      "If the implementation is easy to explain, it may be a good idea.\n",
      "Namespaces are one honking great idea -- let's do more of those!\n"
     ]
    }
   ],
   "source": [
    "import this"
   ]
  },
  {
   "cell_type": "code",
   "execution_count": 28,
   "id": "0e830fa4",
   "metadata": {},
   "outputs": [
    {
     "name": "stdout",
     "output_type": "stream",
     "text": [
      "Enter a sentence with emails: rand@gmail.com\n",
      "rand@gmail.com\n"
     ]
    }
   ],
   "source": [
    "import re\n",
    "str = input(\"Enter a sentence with emails: \")\n",
    "#str = \"Please contact info@sololearn.com for assistance\"\n",
    "pattern = r\"([\\w\\.-]+)@([\\w\\.-]+)(\\.[\\w\\.]+)\"\n",
    "match = re.search(pattern, str)\n",
    "if match:\n",
    "    print(match.group())\n",
    "#returns first instance only"
   ]
  },
  {
   "cell_type": "code",
   "execution_count": null,
   "id": "70622ea1",
   "metadata": {},
   "outputs": [],
   "source": []
  },
  {
   "cell_type": "code",
   "execution_count": null,
   "id": "be6237c5",
   "metadata": {
    "scrolled": true
   },
   "outputs": [],
   "source": []
  },
  {
   "cell_type": "code",
   "execution_count": null,
   "id": "65bfd04f",
   "metadata": {},
   "outputs": [],
   "source": []
  }
 ],
 "metadata": {
  "kernelspec": {
   "display_name": "Python 3",
   "language": "python",
   "name": "python3"
  },
  "language_info": {
   "codemirror_mode": {
    "name": "ipython",
    "version": 3
   },
   "file_extension": ".py",
   "mimetype": "text/x-python",
   "name": "python",
   "nbconvert_exporter": "python",
   "pygments_lexer": "ipython3",
   "version": "3.8.8"
  }
 },
 "nbformat": 4,
 "nbformat_minor": 5
}
