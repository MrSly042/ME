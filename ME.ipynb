{
 "cells": [
  {
   "cell_type": "code",
   "execution_count": 7,
   "id": "3b57ceaf",
   "metadata": {},
   "outputs": [
    {
     "name": "stdout",
     "output_type": "stream",
     "text": [
      "Please enter your name: h\n",
      "Nice to meet you h\n",
      "I was made by OGU\n"
     ]
    }
   ],
   "source": [
    "class ARTIFICIALINTELLIGENCE:\n",
    "    def __init__(self, maker, name):\n",
    "        self.maker = maker\n",
    "        self.name = name\n",
    "    def greet(self):\n",
    "        nam = input(\"Please enter your name: \")\n",
    "        print(\"Nice to meet you \" + nam)\n",
    "A = ARTIFICIALINTELLIGENCE(\"OGU\", \"ME\")\n",
    "A.greet()\n",
    "Creator = A.maker\n",
    "#if Creator == nam:\n",
    " #   print(\"I was made by you\")\n",
    "print(\"I was made by \" + Creator)\n"
   ]
  },
  {
   "cell_type": "code",
   "execution_count": null,
   "id": "a64cc6ce",
   "metadata": {},
   "outputs": [],
   "source": []
  }
 ],
 "metadata": {
  "kernelspec": {
   "display_name": "Python 3",
   "language": "python",
   "name": "python3"
  },
  "language_info": {
   "codemirror_mode": {
    "name": "ipython",
    "version": 3
   },
   "file_extension": ".py",
   "mimetype": "text/x-python",
   "name": "python",
   "nbconvert_exporter": "python",
   "pygments_lexer": "ipython3",
   "version": "3.8.8"
  }
 },
 "nbformat": 4,
 "nbformat_minor": 5
}
