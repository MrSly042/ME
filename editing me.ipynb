{
 "cells": [
  {
   "cell_type": "code",
   "execution_count": null,
   "id": "b5174db3",
   "metadata": {},
   "outputs": [],
   "source": [
    "class ARTIFICIALINTELLIGENCE:\n",
    "    def __init__(self, maker, name):\n",
    "        self.maker = maker\n",
    "        self.name = name\n",
    "    def greet(self):\n",
    "        nam = input(\"Please enter your name: \")\n",
    "        print(\"Nice to meet you \" + nam)\n",
    "A = ARTIFICIALINTELLIGENCE(\"OGU\", \"ME\")\n",
    "A.greet()\n",
    "Creator = A.maker\n",
    "#if Creator == nam:\n",
    " #   print(\"I was made by you\")\n",
    "print(\"I was made by \" + Creator)\n"
   ]
  }
 ],
 "metadata": {
  "kernelspec": {
   "display_name": "Python 3",
   "language": "python",
   "name": "python3"
  },
  "language_info": {
   "codemirror_mode": {
    "name": "ipython",
    "version": 3
   },
   "file_extension": ".py",
   "mimetype": "text/x-python",
   "name": "python",
   "nbconvert_exporter": "python",
   "pygments_lexer": "ipython3",
   "version": "3.8.8"
  }
 },
 "nbformat": 4,
 "nbformat_minor": 5
}
