{
 "cells": [
  {
   "cell_type": "code",
   "execution_count": 1,
   "id": "e255ac91",
   "metadata": {},
   "outputs": [
    {
     "name": "stdout",
     "output_type": "stream",
     "text": [
      "[16, 27, 38, 49, 60]\n"
     ]
    }
   ],
   "source": [
    "me = [11, 22, 33, 44, 55]\n",
    "def inc(y):\n",
    "    return y+5\n",
    "print(list(map(inc, me)))"
   ]
  },
  {
   "cell_type": "code",
   "execution_count": 2,
   "id": "004f9114",
   "metadata": {},
   "outputs": [
    {
     "name": "stdout",
     "output_type": "stream",
     "text": [
      "[13, 14, 15, 16]\n"
     ]
    }
   ],
   "source": [
    "me = [12, 13, 14, 15]\n",
    "def inc(y):\n",
    "    return y+1\n",
    "print(list(map(inc, me)))"
   ]
  },
  {
   "cell_type": "code",
   "execution_count": 3,
   "id": "ee3d1ac5",
   "metadata": {},
   "outputs": [
    {
     "name": "stdout",
     "output_type": "stream",
     "text": [
      "[33]\n"
     ]
    }
   ],
   "source": [
    "nums = [11, 22, 33, 44, 55]\n",
    "result = list(filter(lambda x:x%3==0, nums))\n",
    "print(result)"
   ]
  },
  {
   "cell_type": "code",
   "execution_count": 4,
   "id": "30fb92dc",
   "metadata": {},
   "outputs": [
    {
     "name": "stdout",
     "output_type": "stream",
     "text": [
      "1\n",
      "2\n",
      "3\n",
      "4\n",
      "5\n",
      "6\n",
      "7\n",
      "8\n",
      "9\n"
     ]
    }
   ],
   "source": [
    "def count():\n",
    "    i=1\n",
    "    while i<10:\n",
    "        yield i\n",
    "        i+=1\n",
    "for i in count():\n",
    "    print(i)"
   ]
  },
  {
   "cell_type": "code",
   "execution_count": 5,
   "id": "90d49ae3",
   "metadata": {},
   "outputs": [
    {
     "name": "stdout",
     "output_type": "stream",
     "text": [
      "[0, 3, 6, 9, 12, 15, 18, 21, 24, 27, 30, 33, 36, 39, 42, 45, 48, 51, 54, 57, 60, 63, 66, 69, 72, 75, 78, 81, 84, 87, 90, 93, 96, 99, 102, 105, 108, 111, 114, 117, 120, 123, 126, 129, 132, 135, 138, 141, 144, 147, 150, 153, 156, 159, 162, 165, 168, 171, 174, 177, 180, 183, 186, 189, 192, 195, 198]\n"
     ]
    }
   ],
   "source": [
    "def mine(g):\n",
    "    for x in range(g):\n",
    "        if x%3 == 0:\n",
    "            yield x\n",
    "print(list(mine(200)))"
   ]
  },
  {
   "cell_type": "code",
   "execution_count": 6,
   "id": "2a82186c",
   "metadata": {},
   "outputs": [
    {
     "name": "stdout",
     "output_type": "stream",
     "text": [
      "*********\n",
      "ME is great\n",
      "!!!!!!!!!\n"
     ]
    }
   ],
   "source": [
    "def decor(func):\n",
    "    def wrap():\n",
    "        print(\"*********\")\n",
    "        func()\n",
    "        print(\"!!!!!!!!!\")\n",
    "    return wrap\n",
    "def txt():\n",
    "    print(\"Hello world!\")\n",
    "def me():\n",
    "    print(\"ME is great\")\n",
    "deco = decor(me) #only accepts functions as arguments\n",
    "deco()"
   ]
  },
  {
   "cell_type": "code",
   "execution_count": 7,
   "id": "7123d56b",
   "metadata": {},
   "outputs": [
    {
     "name": "stdout",
     "output_type": "stream",
     "text": [
      "*********\n",
      "*********\n",
      "Hello world!\n",
      "!!!!!!!!!\n",
      "!!!!!!!!!\n"
     ]
    }
   ],
   "source": [
    "@decor\n",
    "def txt():\n",
    "    print(\"Hello world!\")\n",
    "n = decor(txt)\n",
    "n()"
   ]
  },
  {
   "cell_type": "code",
   "execution_count": 8,
   "id": "19fca53a",
   "metadata": {},
   "outputs": [
    {
     "name": "stdout",
     "output_type": "stream",
     "text": [
      "120\n"
     ]
    }
   ],
   "source": [
    "def factorial(x):\n",
    "    if x==1:\n",
    "        return 1\n",
    "    else:\n",
    "        return x*factorial(x-1)\n",
    "print(factorial(5))"
   ]
  },
  {
   "cell_type": "code",
   "execution_count": 9,
   "id": "3becc9c9",
   "metadata": {},
   "outputs": [
    {
     "name": "stdout",
     "output_type": "stream",
     "text": [
      "True\n",
      "True\n"
     ]
    }
   ],
   "source": [
    "def is_even(x):\n",
    "    if x == 0:\n",
    "        return True\n",
    "    else:\n",
    "        return is_odd(x-1)\n",
    "def is_odd(x):\n",
    "    return not is_even(x)\n",
    "print(is_odd(13))\n",
    "print(is_even(22))\n",
    "#check"
   ]
  },
  {
   "cell_type": "code",
   "execution_count": 10,
   "id": "6ccf75be",
   "metadata": {},
   "outputs": [
    {
     "name": "stdout",
     "output_type": "stream",
     "text": [
      "False\n",
      "True\n"
     ]
    }
   ],
   "source": [
    "print(not not not not not not not not not not not True)\n",
    "print(not not not not not not not not not not not not not not not not not not not not not not True)"
   ]
  },
  {
   "cell_type": "code",
   "execution_count": 11,
   "id": "47d5a2bc",
   "metadata": {},
   "outputs": [
    {
     "name": "stdout",
     "output_type": "stream",
     "text": [
      "0\n",
      "1\n"
     ]
    }
   ],
   "source": [
    "print(int(not not not not not not not not not not not True))\n",
    "print(int(not not not not not not not not not not not not not not not not not not not not not not True))"
   ]
  },
  {
   "cell_type": "code",
   "execution_count": 12,
   "id": "f975c131",
   "metadata": {},
   "outputs": [
    {
     "name": "stdout",
     "output_type": "stream",
     "text": [
      "1\n",
      "(2, 3, 4, 5)\n"
     ]
    }
   ],
   "source": [
    "def func(narg, *arg):\n",
    "    print(narg)\n",
    "    print(arg)\n",
    "func(1,2,3,4,5)"
   ]
  },
  {
   "cell_type": "code",
   "execution_count": 13,
   "id": "082fed1c",
   "metadata": {},
   "outputs": [
    {
     "name": "stdout",
     "output_type": "stream",
     "text": [
      "{'a': 7, 'b': 8}\n",
      "(4, 5, 6)\n",
      "3\n"
     ]
    }
   ],
   "source": [
    "def kot(x, y=7, *ar, **kwar):\n",
    "    print(kwar)\n",
    "    print(ar)\n",
    "    print(y)\n",
    "kot(2, 3, 4, 5, 6, a=7, b=8)"
   ]
  },
  {
   "cell_type": "code",
   "execution_count": 14,
   "id": "9ae8b9ed",
   "metadata": {},
   "outputs": [
    {
     "name": "stdout",
     "output_type": "stream",
     "text": [
      "ginger\n"
     ]
    }
   ],
   "source": [
    "class Cat:\n",
    "    def __init__(self, color, legs):\n",
    "        self.color = color\n",
    "        self.legs = legs \n",
    "felix = Cat(\"ginger\", 4)\n",
    "print(felix.color)\n",
    "rover = Cat(\"dog-colored\", 4)\n",
    "stumpy = Cat(\"Brown\", 3)"
   ]
  },
  {
   "cell_type": "code",
   "execution_count": 15,
   "id": "0d43c3aa",
   "metadata": {},
   "outputs": [
    {
     "name": "stdout",
     "output_type": "stream",
     "text": [
      "Fido\n",
      "Woof!\n"
     ]
    }
   ],
   "source": [
    "class Dog:\n",
    "    def __init__(self,name, color):\n",
    "        self.name = name\n",
    "        self.color = color\n",
    "    def bark(self):\n",
    "        print(\"Woof!\")\n",
    "fido = Dog(\"Fido\", \"brown\")\n",
    "print(fido.name)\n",
    "fido.bark()"
   ]
  },
  {
   "cell_type": "code",
   "execution_count": 16,
   "id": "75316a15",
   "metadata": {},
   "outputs": [
    {
     "name": "stdout",
     "output_type": "stream",
     "text": [
      "brown\n"
     ]
    }
   ],
   "source": [
    "class Animal:\n",
    "    def __init__(self, name, color):\n",
    "        self.name = name\n",
    "        self.color = color\n",
    "class Cat(Animal):\n",
    "    def purr(self):\n",
    "        print(\"Purr....\")\n",
    "class Dog(Animal):\n",
    "    def bark(self):\n",
    "        print(\"woof!\")\n",
    "fido = Dog(\"Fido\", \"brown\")\n",
    "print(fido.color)\n"
   ]
  },
  {
   "cell_type": "code",
   "execution_count": 17,
   "id": "a6bf1e79",
   "metadata": {},
   "outputs": [
    {
     "name": "stdout",
     "output_type": "stream",
     "text": [
      "\n",
      "{}\n"
     ]
    }
   ],
   "source": [
    "txt = input()\n",
    "dit = {}\n",
    "\n",
    "for letter in txt:\n",
    "    if letter in dit:\n",
    "        dit[letter] +=1\n",
    "    else:\n",
    "        dit[letter] = 1\n",
    "print(dit)\n",
    "#created a dict... with \"{}\", used \"letter\" as key and count as content."
   ]
  },
  {
   "cell_type": "code",
   "execution_count": 18,
   "id": "c6411e1a",
   "metadata": {},
   "outputs": [
    {
     "name": "stdout",
     "output_type": "stream",
     "text": [
      "\n"
     ]
    },
    {
     "ename": "NameError",
     "evalue": "name 'diu' is not defined",
     "output_type": "error",
     "traceback": [
      "\u001b[1;31m---------------------------------------------------------------------------\u001b[0m",
      "\u001b[1;31mNameError\u001b[0m                                 Traceback (most recent call last)",
      "\u001b[1;32m<ipython-input-18-7f8cf7386c0d>\u001b[0m in \u001b[0;36m<module>\u001b[1;34m\u001b[0m\n\u001b[0;32m      2\u001b[0m \u001b[1;32mfor\u001b[0m \u001b[0mv\u001b[0m \u001b[1;32min\u001b[0m \u001b[0mh\u001b[0m\u001b[1;33m:\u001b[0m\u001b[1;33m\u001b[0m\u001b[1;33m\u001b[0m\u001b[0m\n\u001b[0;32m      3\u001b[0m  \u001b[0mdiu\u001b[0m \u001b[1;33m=\u001b[0m \u001b[1;33m{\u001b[0m\u001b[1;33m}\u001b[0m\u001b[1;33m\u001b[0m\u001b[1;33m\u001b[0m\u001b[0m\n\u001b[1;32m----> 4\u001b[1;33m \u001b[0mdiu\u001b[0m\u001b[1;33m[\u001b[0m\u001b[0mh\u001b[0m\u001b[1;33m]\u001b[0m\u001b[1;33m=\u001b[0m \u001b[0mlen\u001b[0m\u001b[1;33m(\u001b[0m\u001b[0mh\u001b[0m\u001b[1;33m)\u001b[0m\u001b[1;33m\u001b[0m\u001b[1;33m\u001b[0m\u001b[0m\n\u001b[0m\u001b[0;32m      5\u001b[0m \u001b[0mprint\u001b[0m \u001b[1;33m(\u001b[0m\u001b[0mdiu\u001b[0m\u001b[1;33m)\u001b[0m\u001b[1;33m\u001b[0m\u001b[1;33m\u001b[0m\u001b[0m\n\u001b[0;32m      6\u001b[0m \u001b[1;31m#same as above (SAA)\u001b[0m\u001b[1;33m\u001b[0m\u001b[1;33m\u001b[0m\u001b[1;33m\u001b[0m\u001b[0m\n",
      "\u001b[1;31mNameError\u001b[0m: name 'diu' is not defined"
     ]
    }
   ],
   "source": [
    "h = input()\n",
    "for v in h:\n",
    " diu = {}\n",
    "diu[h]= len(h)\n",
    "print (diu)\n",
    "#same as above (SAA)"
   ]
  },
  {
   "cell_type": "code",
   "execution_count": 19,
   "id": "c679fdad",
   "metadata": {},
   "outputs": [
    {
     "name": "stdout",
     "output_type": "stream",
     "text": [
      "\n",
      "\n"
     ]
    }
   ],
   "source": [
    "def spell(txt):\n",
    "    a = len(txt)\n",
    "    i = -1\n",
    "    J = a*-1\n",
    "    l = -2\n",
    "    print(txt[-1:])\n",
    "    while J<=l:\n",
    "        print(txt[l:i])\n",
    "        i-=1\n",
    "        l-=1\n",
    "    \n",
    "txt = input()\n",
    "spell(txt)"
   ]
  },
  {
   "cell_type": "code",
   "execution_count": 20,
   "id": "263f19e2",
   "metadata": {},
   "outputs": [
    {
     "name": "stdout",
     "output_type": "stream",
     "text": [
      "\n",
      "\n"
     ]
    }
   ],
   "source": [
    "\n",
    "tx = input()\n",
    "a = tx[-1:]\n",
    "print(a)"
   ]
  },
  {
   "cell_type": "code",
   "execution_count": 21,
   "id": "ef6ed908",
   "metadata": {},
   "outputs": [
    {
     "name": "stdout",
     "output_type": "stream",
     "text": [
      "ginger\n"
     ]
    }
   ],
   "source": [
    "class cat:\n",
    "    def __init__(self, color, legs):\n",
    "        self.color = color\n",
    "        self.legs = legs\n",
    "felix = cat(\"ginger\", 4)\n",
    "print(felix.color)"
   ]
  },
  {
   "cell_type": "code",
   "execution_count": 22,
   "id": "1c69f7f9",
   "metadata": {},
   "outputs": [
    {
     "name": "stdout",
     "output_type": "stream",
     "text": [
      "Fido\n",
      "Woof!\n"
     ]
    }
   ],
   "source": [
    "class Dog:\n",
    "    def __init__(self, name, color):#space needed before __ note\"__\" is \"_\" double\n",
    "        self.name = name\n",
    "        self.color = color\n",
    "    def bark(self):\n",
    "        print(\"Woof!\")\n",
    "fido = Dog(\"Fido\", \"brown\")\n",
    "print(fido.name)\n",
    "fido.bark()"
   ]
  },
  {
   "cell_type": "code",
   "execution_count": 23,
   "id": "97bd7ffc",
   "metadata": {},
   "outputs": [
    {
     "name": "stdout",
     "output_type": "stream",
     "text": [
      "\n",
      "False\n"
     ]
    }
   ],
   "source": [
    "k = input()\n",
    "f = k.islower()\n",
    "print(f)"
   ]
  },
  {
   "cell_type": "code",
   "execution_count": 24,
   "id": "65c01fee",
   "metadata": {},
   "outputs": [
    {
     "name": "stdout",
     "output_type": "stream",
     "text": [
      "2\n",
      "1\n"
     ]
    }
   ],
   "source": [
    "class A:\n",
    "    def spam(self):\n",
    "        print(1)\n",
    "class B(A):\n",
    "    def spam(self):\n",
    "        print(2)\n",
    "        super().spam()\n",
    "B().spam()"
   ]
  },
  {
   "cell_type": "code",
   "execution_count": 25,
   "id": "9fb4561b",
   "metadata": {},
   "outputs": [
    {
     "name": "stdout",
     "output_type": "stream",
     "text": [
      "Woof\n"
     ]
    }
   ],
   "source": [
    "class Wolf:\n",
    "    def __init__(self, name, color):\n",
    "        self.name = name\n",
    "        self.color = color\n",
    "    def bark(self):\n",
    "        print(\"Grrr...\")\n",
    "class Dog(Wolf):\n",
    "    def bark(self):\n",
    "        print(\"Woof\")\n",
    "husky = Dog(\"Max\", \"grey\")\n",
    "husky.bark()\n",
    "#self and cls are jxt naming conventions"
   ]
  },
  {
   "cell_type": "code",
   "execution_count": 26,
   "id": "10268f01",
   "metadata": {},
   "outputs": [
    {
     "name": "stdout",
     "output_type": "stream",
     "text": [
      "8\n",
      "16\n"
     ]
    }
   ],
   "source": [
    "class Vector2D:\n",
    "    def __init__(self,x, y):\n",
    "        self.x = x\n",
    "        self.y = y\n",
    "    def __add__(self, other):\n",
    "        return Vector2D(self.x + other.x, self.y + other.y )\n",
    "first = Vector2D(5, 7)\n",
    "second = Vector2D(3, 9)\n",
    "result = first + second\n",
    "print(result.x)\n",
    "print(result.y)\n",
    "#URGENTLY REVIEW"
   ]
  },
  {
   "cell_type": "code",
   "execution_count": 27,
   "id": "a668b04d",
   "metadata": {},
   "outputs": [
    {
     "name": "stdout",
     "output_type": "stream",
     "text": [
      "ENTER X1: \n"
     ]
    },
    {
     "ename": "ValueError",
     "evalue": "invalid literal for int() with base 10: ''",
     "output_type": "error",
     "traceback": [
      "\u001b[1;31m---------------------------------------------------------------------------\u001b[0m",
      "\u001b[1;31mValueError\u001b[0m                                Traceback (most recent call last)",
      "\u001b[1;32m<ipython-input-27-e2fa0c953b5f>\u001b[0m in \u001b[0;36m<module>\u001b[1;34m\u001b[0m\n\u001b[0;32m      5\u001b[0m     \u001b[1;32mdef\u001b[0m \u001b[0m__sub__\u001b[0m\u001b[1;33m(\u001b[0m\u001b[0mself\u001b[0m\u001b[1;33m,\u001b[0m \u001b[0moth\u001b[0m\u001b[1;33m)\u001b[0m\u001b[1;33m:\u001b[0m\u001b[1;33m\u001b[0m\u001b[1;33m\u001b[0m\u001b[0m\n\u001b[0;32m      6\u001b[0m         \u001b[1;32mreturn\u001b[0m \u001b[0moperations\u001b[0m\u001b[1;33m(\u001b[0m\u001b[0mself\u001b[0m\u001b[1;33m.\u001b[0m\u001b[0ma\u001b[0m \u001b[1;33m-\u001b[0m \u001b[0moth\u001b[0m\u001b[1;33m.\u001b[0m\u001b[0ma\u001b[0m\u001b[1;33m,\u001b[0m \u001b[0mself\u001b[0m\u001b[1;33m.\u001b[0m\u001b[0mb\u001b[0m \u001b[1;33m-\u001b[0m \u001b[0moth\u001b[0m\u001b[1;33m.\u001b[0m\u001b[0mb\u001b[0m\u001b[1;33m)\u001b[0m\u001b[1;33m\u001b[0m\u001b[1;33m\u001b[0m\u001b[0m\n\u001b[1;32m----> 7\u001b[1;33m \u001b[0mX\u001b[0m \u001b[1;33m=\u001b[0m \u001b[0mint\u001b[0m\u001b[1;33m(\u001b[0m\u001b[0minput\u001b[0m\u001b[1;33m(\u001b[0m\u001b[1;34m\"ENTER X1: \"\u001b[0m\u001b[1;33m)\u001b[0m\u001b[1;33m)\u001b[0m\u001b[1;33m\u001b[0m\u001b[1;33m\u001b[0m\u001b[0m\n\u001b[0m\u001b[0;32m      8\u001b[0m \u001b[0mx\u001b[0m \u001b[1;33m=\u001b[0m \u001b[0mint\u001b[0m\u001b[1;33m(\u001b[0m\u001b[0minput\u001b[0m\u001b[1;33m(\u001b[0m\u001b[1;34m\"ENTER X2: \"\u001b[0m\u001b[1;33m)\u001b[0m\u001b[1;33m)\u001b[0m\u001b[1;33m\u001b[0m\u001b[1;33m\u001b[0m\u001b[0m\n\u001b[0;32m      9\u001b[0m \u001b[0mY\u001b[0m \u001b[1;33m=\u001b[0m \u001b[0mint\u001b[0m\u001b[1;33m(\u001b[0m\u001b[0minput\u001b[0m\u001b[1;33m(\u001b[0m\u001b[1;34m\"ENTER Y1: \"\u001b[0m\u001b[1;33m)\u001b[0m\u001b[1;33m)\u001b[0m\u001b[1;33m\u001b[0m\u001b[1;33m\u001b[0m\u001b[0m\n",
      "\u001b[1;31mValueError\u001b[0m: invalid literal for int() with base 10: ''"
     ]
    }
   ],
   "source": [
    "class operations:\n",
    "    def __init__(self, a, b):\n",
    "        self.a = a\n",
    "        self.b = b\n",
    "    def __sub__(self, oth):\n",
    "        return operations(self.a - oth.a, self.b - oth.b)\n",
    "X = int(input(\"ENTER X1: \"))\n",
    "x = int(input(\"ENTER X2: \"))\n",
    "Y = int(input(\"ENTER Y1: \"))\n",
    "y = int(input(\"ENTER Y2: \"))\n",
    "first = operations(X, Y)\n",
    "second = operations(x, y)\n",
    "res = first - second\n",
    "print((res.a, res.b))\n",
    "#print(res.a)\n",
    "#print(res.b)"
   ]
  },
  {
   "cell_type": "code",
   "execution_count": 28,
   "id": "9f4ebe9c",
   "metadata": {},
   "outputs": [
    {
     "name": "stdout",
     "output_type": "stream",
     "text": [
      "spam\n",
      "************\n",
      "Hello world!\n"
     ]
    }
   ],
   "source": [
    "class SpecialString:\n",
    "    def __init__(self, cont):\n",
    "        self.cont = cont\n",
    "    def __truediv__(self, other):\n",
    "        line = \"*\" *len(other.cont)\n",
    "        return \"\\n\".join([self.cont, line, other.cont])\n",
    "spam = SpecialString(\"spam\")\n",
    "hello = SpecialString(\"Hello world!\")\n",
    "print(spam / hello)\n",
    "#REVIEW"
   ]
  },
  {
   "cell_type": "code",
   "execution_count": 29,
   "id": "a742fab3",
   "metadata": {},
   "outputs": [
    {
     "name": "stdout",
     "output_type": "stream",
     "text": [
      ">spam>eggs\n",
      "e>spam>ggs\n",
      "eg>spam>gs\n",
      "egg>spam>s\n",
      "eggs>spam>\n"
     ]
    }
   ],
   "source": [
    "class SpecialString:\n",
    "    def __init__(self, cont):\n",
    "        self.cont = cont\n",
    "    def __gt__(self, other):\n",
    "        for index in range(len(other.cont)+1):\n",
    "            result = other.cont[:index] + \">\" + self.cont\n",
    "            result += \">\" + other.cont[index:]\n",
    "            print(result)\n",
    "spam = SpecialString(\"spam\")\n",
    "eggs = SpecialString(\"eggs\")\n",
    "spam > eggs"
   ]
  },
  {
   "cell_type": "code",
   "execution_count": 30,
   "id": "c4a6c175",
   "metadata": {},
   "outputs": [
    {
     "name": "stdout",
     "output_type": "stream",
     "text": [
      "Black\n",
      "MOO!\n"
     ]
    }
   ],
   "source": [
    "class Cow:\n",
    "    def __init__(self, color, stomachs):\n",
    "        self.color = color\n",
    "        self.stomachs = stomachs\n",
    "    def disturb(self):\n",
    "        print(\"MOO!\")\n",
    "Star = Cow(\"Black\", 4)\n",
    "print(Star.color)\n",
    "Star.disturb()"
   ]
  },
  {
   "cell_type": "code",
   "execution_count": null,
   "id": "056b0aca",
   "metadata": {},
   "outputs": [],
   "source": []
  },
  {
   "cell_type": "code",
   "execution_count": null,
   "id": "676e0999",
   "metadata": {},
   "outputs": [],
   "source": []
  },
  {
   "cell_type": "code",
   "execution_count": null,
   "id": "07d141d9",
   "metadata": {},
   "outputs": [],
   "source": []
  },
  {
   "cell_type": "code",
   "execution_count": null,
   "id": "a63e3f3f",
   "metadata": {},
   "outputs": [],
   "source": []
  },
  {
   "cell_type": "code",
   "execution_count": null,
   "id": "7a9f2edc",
   "metadata": {},
   "outputs": [],
   "source": []
  }
 ],
 "metadata": {
  "kernelspec": {
   "display_name": "Python 3",
   "language": "python",
   "name": "python3"
  },
  "language_info": {
   "codemirror_mode": {
    "name": "ipython",
    "version": 3
   },
   "file_extension": ".py",
   "mimetype": "text/x-python",
   "name": "python",
   "nbconvert_exporter": "python",
   "pygments_lexer": "ipython3",
   "version": "3.8.8"
  }
 },
 "nbformat": 4,
 "nbformat_minor": 5
}
