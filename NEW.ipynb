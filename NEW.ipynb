{
 "cells": [
  {
   "cell_type": "code",
   "execution_count": 4,
   "id": "d0ffecf2",
   "metadata": {},
   "outputs": [
    {
     "name": "stdout",
     "output_type": "stream",
     "text": [
      "13\n",
      "1\n",
      "Solo\n",
      "learn\n",
      "7\n",
      "Solo\n",
      "11\n"
     ]
    }
   ],
   "source": [
    "#FIZZBUZZ\n",
    "n = int(input())\n",
    "i = 0\n",
    "while i< n-1:\n",
    "    i+=1\n",
    "    if i % 2 == 0:\n",
    "        continue\n",
    "    if i % 3 == 0 and i % 5 == 0:\n",
    "        print(\"Sololearn\")\n",
    "        continue\n",
    "    if i % 3 == 0:\n",
    "        print(\"Solo\")\n",
    "        continue\n",
    "    if i % 5 == 0:\n",
    "        print(\"learn\")\n",
    "        continue\n",
    "    print(i)\n"
   ]
  },
  {
   "cell_type": "code",
   "execution_count": 33,
   "id": "afaa6b63",
   "metadata": {},
   "outputs": [
    {
     "name": "stdout",
     "output_type": "stream",
     "text": [
      "18\n",
      "64.4\n"
     ]
    }
   ],
   "source": [
    "#TEMPERATURE\n",
    "celsius = int(input())\n",
    "def conv(c):\n",
    "    return 9*c/5+32\n",
    "far = conv(celsius)\n",
    "print(far)"
   ]
  },
  {
   "cell_type": "code",
   "execution_count": 12,
   "id": "a49419da",
   "metadata": {},
   "outputs": [
    {
     "name": "stdout",
     "output_type": "stream",
     "text": [
      "HELLO ME\n"
     ]
    }
   ],
   "source": [
    "print(\"HELLO WORLD\".replace(\"WORLD\", \"ME\"))"
   ]
  },
  {
   "cell_type": "code",
   "execution_count": null,
   "id": "411c9154",
   "metadata": {},
   "outputs": [],
   "source": [
    "nums = [11, 22, 33, 44, 55]\n",
    "print(nums.index(22))"
   ]
  },
  {
   "cell_type": "code",
   "execution_count": 8,
   "id": "6f25bdbc",
   "metadata": {},
   "outputs": [
    {
     "name": "stdout",
     "output_type": "stream",
     "text": [
      "[]\n"
     ]
    }
   ],
   "source": [
    "empty_list = []\n",
    "print(empty_list)"
   ]
  },
  {
   "cell_type": "code",
   "execution_count": 16,
   "id": "5e31c512",
   "metadata": {},
   "outputs": [
    {
     "name": "stdout",
     "output_type": "stream",
     "text": [
      "\n"
     ]
    }
   ],
   "source": [
    "\n",
    "\n",
    "def spell(txt):\n",
    "    #your code goes here \n",
    "    a = len(txt)\n",
    "    lis = list(txt)\n",
    "    new = list(lis[::-1])\n",
    "    for var in new:\n",
    "     print (var) \n",
    "txt = input()\n",
    "spell(txt)\n"
   ]
  },
  {
   "cell_type": "code",
   "execution_count": 1,
   "id": "fba55a07",
   "metadata": {},
   "outputs": [
    {
     "name": "stdout",
     "output_type": "stream",
     "text": [
      "WRONG\n"
     ]
    }
   ],
   "source": [
    "try:\n",
    "    a = 5/0\n",
    "except ZeroDivisionError:\n",
    "    print(\"WRONG\")"
   ]
  },
  {
   "cell_type": "code",
   "execution_count": 44,
   "id": "cf1cb85c",
   "metadata": {},
   "outputs": [
    {
     "name": "stdout",
     "output_type": "stream",
     "text": [
      "Enter string: jjjjj\n"
     ]
    },
    {
     "ename": "NameError",
     "evalue": "name 'r' is not defined",
     "output_type": "error",
     "traceback": [
      "\u001b[1;31m---------------------------------------------------------------------------\u001b[0m",
      "\u001b[1;31mNameError\u001b[0m                                 Traceback (most recent call last)",
      "\u001b[1;32m<ipython-input-44-7ef70ce79ec1>\u001b[0m in \u001b[0;36m<module>\u001b[1;34m\u001b[0m\n\u001b[0;32m      3\u001b[0m \u001b[0mcheck\u001b[0m \u001b[1;33m=\u001b[0m \u001b[1;33m[\u001b[0m\u001b[1;34m\"'a'\"\u001b[0m\u001b[1;33m,\u001b[0m \u001b[1;34m\"'b'\"\u001b[0m\u001b[1;33m,\u001b[0m \u001b[1;34m\"'c'\"\u001b[0m\u001b[1;33m,\u001b[0m \u001b[1;34m\"'d'\"\u001b[0m\u001b[1;33m,\u001b[0m \u001b[1;34m\"'e'\"\u001b[0m\u001b[1;33m,\u001b[0m \u001b[1;34m\"'f'\"\u001b[0m\u001b[1;33m,\u001b[0m \u001b[1;34m\"'g'\"\u001b[0m\u001b[1;33m,\u001b[0m \u001b[1;34m\"'h'\"\u001b[0m\u001b[1;33m,\u001b[0m \u001b[1;34m\"'i'\"\u001b[0m\u001b[1;33m,\u001b[0m \u001b[1;34m\"'j'\"\u001b[0m\u001b[1;33m,\u001b[0m \u001b[1;34m\"'k'\"\u001b[0m\u001b[1;33m,\u001b[0m \u001b[1;34m\"'l'\"\u001b[0m\u001b[1;33m,\u001b[0m \u001b[1;34m\"'m'\"\u001b[0m\u001b[1;33m,\u001b[0m \u001b[1;34m\"'n'\"\u001b[0m\u001b[1;33m,\u001b[0m \u001b[1;34m\"'o'\"\u001b[0m\u001b[1;33m,\u001b[0m \u001b[1;34m\"'p'\"\u001b[0m\u001b[1;33m,\u001b[0m \u001b[1;34m\"'q'\"\u001b[0m\u001b[1;33m,\u001b[0m \u001b[1;34m\"'r'\"\u001b[0m\u001b[1;33m,\u001b[0m \u001b[1;34m\"'s'\"\u001b[0m\u001b[1;33m,\u001b[0m \u001b[1;34m\"'t'\"\u001b[0m\u001b[1;33m,\u001b[0m \u001b[1;34m\"'u'\"\u001b[0m\u001b[1;33m,\u001b[0m \u001b[1;34m\"'v'\"\u001b[0m\u001b[1;33m,\u001b[0m \u001b[1;34m\"'w'\"\u001b[0m\u001b[1;33m,\u001b[0m \u001b[1;34m\"'x'\"\u001b[0m\u001b[1;33m,\u001b[0m \u001b[1;34m\"'y'\"\u001b[0m\u001b[1;33m,\u001b[0m \u001b[1;34m\"'z'\"\u001b[0m\u001b[1;33m]\u001b[0m\u001b[1;33m\u001b[0m\u001b[1;33m\u001b[0m\u001b[0m\n\u001b[0;32m      4\u001b[0m \u001b[1;32mfor\u001b[0m \u001b[0mletter\u001b[0m \u001b[1;32min\u001b[0m \u001b[0mcheck\u001b[0m\u001b[1;33m:\u001b[0m\u001b[1;33m\u001b[0m\u001b[1;33m\u001b[0m\u001b[0m\n\u001b[1;32m----> 5\u001b[1;33m     \u001b[0mpattern\u001b[0m \u001b[1;33m=\u001b[0m \u001b[0mr\u001b[0m \u001b[1;33m+\u001b[0m \u001b[0mletter\u001b[0m\u001b[1;33m\u001b[0m\u001b[1;33m\u001b[0m\u001b[0m\n\u001b[0m\u001b[0;32m      6\u001b[0m     \u001b[1;32mif\u001b[0m \u001b[0mre\u001b[0m\u001b[1;33m.\u001b[0m\u001b[0mmatch\u001b[0m\u001b[1;33m(\u001b[0m\u001b[0mpattern\u001b[0m\u001b[1;33m,\u001b[0m \u001b[0mran\u001b[0m\u001b[1;33m)\u001b[0m\u001b[1;33m:\u001b[0m\u001b[1;33m\u001b[0m\u001b[1;33m\u001b[0m\u001b[0m\n\u001b[0;32m      7\u001b[0m         \u001b[0mprint\u001b[0m\u001b[1;33m(\u001b[0m\u001b[1;34m\"Deja Vu\"\u001b[0m\u001b[1;33m)\u001b[0m\u001b[1;33m\u001b[0m\u001b[1;33m\u001b[0m\u001b[0m\n",
      "\u001b[1;31mNameError\u001b[0m: name 'r' is not defined"
     ]
    }
   ],
   "source": [
    "import re\n",
    "ran = input(\"Enter string: \")\n",
    "check = [\"'a'\", \"'b'\", \"'c'\", \"'d'\", \"'e'\", \"'f'\", \"'g'\", \"'h'\", \"'i'\", \"'j'\", \"'k'\", \"'l'\", \"'m'\", \"'n'\", \"'o'\", \"'p'\", \"'q'\", \"'r'\", \"'s'\", \"'t'\", \"'u'\", \"'v'\", \"'w'\", \"'x'\", \"'y'\", \"'z'\"]\n",
    "for letter in check:\n",
    "    pattern = r + letter\n",
    "    if re.match(pattern, ran):\n",
    "        print(\"Deja Vu\")\n",
    "    else:\n",
    "        print(\"Unique\")"
   ]
  },
  {
   "cell_type": "code",
   "execution_count": 40,
   "id": "ef0297e7",
   "metadata": {},
   "outputs": [
    {
     "name": "stdout",
     "output_type": "stream",
     "text": [
      "a, b, c, d, e, f, g, h, i, j, k, l, m, n, o, p, q, r, s, t, u, v, w, x, y, z\n",
      "f\n"
     ]
    }
   ],
   "source": [
    "check = [\"a\", \"b\", \"c\", \"d\", \"e\", \"f\", \"g\", \"h\", \"i\", \"j\", \"k\", \"l\", \"m\", \"n\", \"o\", \"p\", \"q\", \"r\", \"s\", \"t\", \"u\", \"v\", \"w\", \"x\", \"y\", \"z\"]\n",
    "print(check[5])"
   ]
  },
  {
   "cell_type": "code",
   "execution_count": null,
   "id": "7674739f",
   "metadata": {},
   "outputs": [],
   "source": []
  }
 ],
 "metadata": {
  "kernelspec": {
   "display_name": "Python 3",
   "language": "python",
   "name": "python3"
  },
  "language_info": {
   "codemirror_mode": {
    "name": "ipython",
    "version": 3
   },
   "file_extension": ".py",
   "mimetype": "text/x-python",
   "name": "python",
   "nbconvert_exporter": "python",
   "pygments_lexer": "ipython3",
   "version": "3.8.8"
  }
 },
 "nbformat": 4,
 "nbformat_minor": 5
}
