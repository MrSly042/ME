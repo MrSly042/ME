{
 "cells": [
  {
   "cell_type": "code",
   "execution_count": 1,
   "id": "4e68982b",
   "metadata": {},
   "outputs": [
    {
     "name": "stdout",
     "output_type": "stream",
     "text": [
      "Hello!\n",
      "World!\n",
      "Me!\n"
     ]
    }
   ],
   "source": [
    "words = [\"Hello\", \"World\", \"Me\"]\n",
    "for x in words:\n",
    "    print(x + \"!\")"
   ]
  },
  {
   "cell_type": "code",
   "execution_count": null,
   "id": "372f54ea",
   "metadata": {},
   "outputs": [],
   "source": []
  },
  {
   "cell_type": "code",
   "execution_count": 2,
   "id": "c3fc3ebc",
   "metadata": {},
   "outputs": [
    {
     "name": "stdout",
     "output_type": "stream",
     "text": [
      "[1, 2, 3, 4, 5, 6]\n",
      "[1, 2, 3, 1, 2, 3, 1, 2, 3]\n"
     ]
    }
   ],
   "source": [
    "nums = [1,2,3]\n",
    "print(nums + [4,5,6])\n",
    "print(nums*3)"
   ]
  },
  {
   "cell_type": "code",
   "execution_count": 5,
   "id": "9a1d3e75",
   "metadata": {},
   "outputs": [
    {
     "ename": "ModuleNotFoundError",
     "evalue": "No module named 'gtts'",
     "output_type": "error",
     "traceback": [
      "\u001b[1;31m---------------------------------------------------------------------------\u001b[0m",
      "\u001b[1;31mModuleNotFoundError\u001b[0m                       Traceback (most recent call last)",
      "\u001b[1;32m<ipython-input-5-46091419568e>\u001b[0m in \u001b[0;36m<module>\u001b[1;34m\u001b[0m\n\u001b[0;32m      1\u001b[0m \u001b[1;31m#import speech_recognition as sr\u001b[0m\u001b[1;33m\u001b[0m\u001b[1;33m\u001b[0m\u001b[1;33m\u001b[0m\u001b[0m\n\u001b[1;32m----> 2\u001b[1;33m \u001b[1;32mfrom\u001b[0m \u001b[0mgtts\u001b[0m \u001b[1;32mimport\u001b[0m \u001b[0mgTTS\u001b[0m\u001b[1;33m\u001b[0m\u001b[1;33m\u001b[0m\u001b[0m\n\u001b[0m\u001b[0;32m      3\u001b[0m \u001b[1;32mimport\u001b[0m \u001b[0mos\u001b[0m\u001b[1;33m\u001b[0m\u001b[1;33m\u001b[0m\u001b[0m\n\u001b[0;32m      4\u001b[0m \u001b[0mvoice\u001b[0m \u001b[1;33m=\u001b[0m \u001b[1;34m\"\"\u001b[0m\u001b[1;33m\u001b[0m\u001b[1;33m\u001b[0m\u001b[0m\n\u001b[0;32m      5\u001b[0m \u001b[1;32mwhile\u001b[0m \u001b[1;32mTrue\u001b[0m\u001b[1;33m:\u001b[0m\u001b[1;33m\u001b[0m\u001b[1;33m\u001b[0m\u001b[0m\n",
      "\u001b[1;31mModuleNotFoundError\u001b[0m: No module named 'gtts'"
     ]
    }
   ],
   "source": [
    "import speech_recognition as sr\n",
    "from gtts import gTTS\n",
    "import os\n",
    "voice = \"\"\n",
    "while True:\n",
    "    r = sr.Recognizer()\n",
    "    with sr.Microphone() as source:\n",
    "        try:\n",
    "            audio = r.listen(source)\n",
    "            text = r.Recognize_google(audio)\n",
    "            print(text)\n",
    "            if text == \"stop\":\n",
    "                break\n",
    "            text = r.recognize_google(audio)\n",
    "            voice = voice + str(text)\n",
    "        except:\n",
    "            print(\"say sompething....\")\n",
    "hr = gTTS(text=voice, Lang='en', slow=False)\n",
    "hr.save(\"1.wave\")"
   ]
  },
  {
   "cell_type": "code",
   "execution_count": 3,
   "id": "302c7ff3",
   "metadata": {},
   "outputs": [
    {
     "name": "stdout",
     "output_type": "stream",
     "text": [
      "Lion\n"
     ]
    }
   ],
   "source": [
    "book = {\n",
    "    \"roar\":'Lion',\n",
    "    \"tweet\":'Bird',\n",
    "    \"moo\":'Cow'\n",
    "}\n",
    "print(book.get(\"roar\" , \"Not found\"))"
   ]
  },
  {
   "cell_type": "code",
   "execution_count": 2,
   "id": "51a762ca",
   "metadata": {},
   "outputs": [
    {
     "ename": "TypeError",
     "evalue": "'tuple' object does not support item assignment",
     "output_type": "error",
     "traceback": [
      "\u001b[1;31m---------------------------------------------------------------------------\u001b[0m",
      "\u001b[1;31mTypeError\u001b[0m                                 Traceback (most recent call last)",
      "\u001b[1;32m<ipython-input-2-083490767f92>\u001b[0m in \u001b[0;36m<module>\u001b[1;34m\u001b[0m\n\u001b[0;32m      1\u001b[0m \u001b[0mtuple\u001b[0m \u001b[1;33m=\u001b[0m \u001b[1;34m\"lion\"\u001b[0m\u001b[1;33m,\u001b[0m \u001b[1;36m234\u001b[0m\u001b[1;33m,\u001b[0m \u001b[1;32mTrue\u001b[0m\u001b[1;33m\u001b[0m\u001b[1;33m\u001b[0m\u001b[0m\n\u001b[1;32m----> 2\u001b[1;33m \u001b[0mtuple\u001b[0m\u001b[1;33m[\u001b[0m\u001b[1;36m2\u001b[0m\u001b[1;33m]\u001b[0m \u001b[1;33m=\u001b[0m \u001b[1;36m45\u001b[0m\u001b[1;33m\u001b[0m\u001b[1;33m\u001b[0m\u001b[0m\n\u001b[0m",
      "\u001b[1;31mTypeError\u001b[0m: 'tuple' object does not support item assignment"
     ]
    }
   ],
   "source": [
    "tuple = \"lion\", 234, True\n",
    "tuple[2] = 45"
   ]
  },
  {
   "cell_type": "code",
   "execution_count": 3,
   "id": "89f80eab",
   "metadata": {},
   "outputs": [
    {
     "name": "stdout",
     "output_type": "stream",
     "text": [
      "2\n",
      "1\n",
      "[3, 6, 8, 9, 0]\n",
      "4\n"
     ]
    }
   ],
   "source": [
    "num = (1, 2, 3, 6, 8, 9, 0, 4)\n",
    "b, a, *c, d = num\n",
    "print(a)\n",
    "print(b)\n",
    "print(c)\n",
    "print(d)"
   ]
  },
  {
   "cell_type": "code",
   "execution_count": 4,
   "id": "a5b0e041",
   "metadata": {},
   "outputs": [
    {
     "name": "stdout",
     "output_type": "stream",
     "text": [
      "Enter the length: 4\n",
      "Enter the width/breadth: 8\n",
      "(24, 32)\n"
     ]
    }
   ],
   "source": [
    "length = input(\"Enter the length: \")\n",
    "width = input(\"Enter the width/breadth: \")\n",
    "perimeter = 2 * (int(length) + int(width))\n",
    "area = int(length) * int(width)\n",
    "values = (perimeter, area)\n",
    "print(values)"
   ]
  },
  {
   "cell_type": "code",
   "execution_count": 7,
   "id": "85358556",
   "metadata": {},
   "outputs": [
    {
     "name": "stdout",
     "output_type": "stream",
     "text": [
      "20\n"
     ]
    }
   ],
   "source": [
    "def apply_twice(func,arg):\n",
    "    return func(func(arg))\n",
    "def add_five(x):\n",
    "    return x+5\n",
    "print(apply_twice(add_five,10))"
   ]
  },
  {
   "cell_type": "code",
   "execution_count": 8,
   "id": "e4272ce4",
   "metadata": {},
   "outputs": [
    {
     "name": "stdout",
     "output_type": "stream",
     "text": [
      "50\n"
     ]
    }
   ],
   "source": [
    "def func(f, arg):\n",
    "    return f(arg)\n",
    "print(func(lambda x: 2*x*x, 5))"
   ]
  },
  {
   "cell_type": "code",
   "execution_count": 9,
   "id": "fe959f75",
   "metadata": {},
   "outputs": [
    {
     "name": "stdout",
     "output_type": "stream",
     "text": [
      "[16, 27, 38, 49, 60]\n"
     ]
    }
   ],
   "source": [
    "nums = [11, 22, 33, 44, 55]\n",
    "result = list(map(lambda x: x+5, nums))\n",
    "print(result)"
   ]
  },
  {
   "cell_type": "code",
   "execution_count": 10,
   "id": "b921edf6",
   "metadata": {},
   "outputs": [
    {
     "name": "stdout",
     "output_type": "stream",
     "text": [
      "[55]\n"
     ]
    }
   ],
   "source": [
    "nums = [11, 22, 33, 44, 55]\n",
    "result = list(filter(lambda x: x%5==0, nums))\n",
    "print(result)"
   ]
  },
  {
   "cell_type": "code",
   "execution_count": 11,
   "id": "d1aa1bbc",
   "metadata": {},
   "outputs": [
    {
     "name": "stdout",
     "output_type": "stream",
     "text": [
      "[1, 2, 3, 4]\n"
     ]
    }
   ],
   "source": [
    "nums = [1,2,3]\n",
    "nums.append(4)\n",
    "print(nums)"
   ]
  },
  {
   "cell_type": "code",
   "execution_count": 12,
   "id": "c77bc9b6",
   "metadata": {},
   "outputs": [
    {
     "name": "stdout",
     "output_type": "stream",
     "text": [
      "['Python', 'is', 'fun']\n"
     ]
    }
   ],
   "source": [
    "words = [\"Python\", \"fun\"]\n",
    "add = 1\n",
    "words.insert(add, \"is\")\n",
    "print(words)"
   ]
  },
  {
   "cell_type": "code",
   "execution_count": 13,
   "id": "2eb7a388",
   "metadata": {},
   "outputs": [
    {
     "name": "stdout",
     "output_type": "stream",
     "text": [
      "3\n",
      "1234\n"
     ]
    }
   ],
   "source": [
    "letters = [2,34, 1234, 345]\n",
    "print(letters.index(345))\n",
    "#print(letters.index('p'))\n",
    "#print(letters.index('u'))\n",
    "b = max(letters)\n",
    "print(b)"
   ]
  },
  {
   "cell_type": "code",
   "execution_count": 14,
   "id": "b4edd45f",
   "metadata": {},
   "outputs": [
    {
     "name": "stdout",
     "output_type": "stream",
     "text": [
      "Random!\n"
     ]
    }
   ],
   "source": [
    "def shout(word):\n",
    "    \"\"\"\n",
    "    Print a word with an excamation mark following it.\n",
    "    \"\"\"\n",
    "    print(word + \"!\")\n",
    "shout(\"Random\")"
   ]
  },
  {
   "cell_type": "code",
   "execution_count": 15,
   "id": "d9c5994b",
   "metadata": {},
   "outputs": [
    {
     "data": {
      "text/plain": [
       "45"
      ]
     },
     "execution_count": 15,
     "metadata": {},
     "output_type": "execute_result"
    }
   ],
   "source": [
    "def sum(x):\n",
    "    res = 0\n",
    "    for i in range(x):\n",
    "        res+=i\n",
    "    return res\n",
    "sum(10)\n",
    "        "
   ]
  },
  {
   "cell_type": "code",
   "execution_count": 16,
   "id": "01f51295",
   "metadata": {},
   "outputs": [
    {
     "name": "stdout",
     "output_type": "stream",
     "text": [
      "0\n"
     ]
    }
   ],
   "source": [
    "def print_nums(x):\n",
    "    for i in range(x):\n",
    "        print(i)\n",
    "        return\n",
    "print_nums(10)#it did'nt say return anything"
   ]
  },
  {
   "cell_type": "code",
   "execution_count": 17,
   "id": "ba15626f",
   "metadata": {},
   "outputs": [
    {
     "name": "stdout",
     "output_type": "stream",
     "text": [
      "Numbers: 4 5 6\n"
     ]
    }
   ],
   "source": [
    "nums = [4, 5, 6]\n",
    "msg = \"Numbers: {0} {1} {2}\".format(nums[0], nums[1], nums[2])\n",
    "print(msg)"
   ]
  },
  {
   "cell_type": "code",
   "execution_count": 18,
   "id": "3a067725",
   "metadata": {},
   "outputs": [
    {
     "name": "stdout",
     "output_type": "stream",
     "text": [
      "spam? eggs? ham\n",
      "Hello world\n"
     ]
    }
   ],
   "source": [
    "print(\"? \".join([\"spam\", \"eggs\", \"ham\"]))\n",
    "print(\"Hello ME\".replace(\"ME\", \"world\"))"
   ]
  },
  {
   "cell_type": "code",
   "execution_count": 19,
   "id": "eca36c9b",
   "metadata": {},
   "outputs": [
    {
     "name": "stdout",
     "output_type": "stream",
     "text": [
      "my name is avery\n",
      "very\n",
      "Word found\n"
     ]
    }
   ],
   "source": [
    "def search(var, ver):\n",
    "    g = ver in var\n",
    "    if g == True:\n",
    "        print(\"Word found\")\n",
    "    else:\n",
    "        print(\"Word not found\")\n",
    "text = input()\n",
    "word = input()\n",
    "search(text, word)"
   ]
  },
  {
   "cell_type": "code",
   "execution_count": 23,
   "id": "ae8dfa9d",
   "metadata": {},
   "outputs": [
    {
     "name": "stdout",
     "output_type": "stream",
     "text": [
      "True\n",
      "False\n"
     ]
    }
   ],
   "source": [
    "#spam =egg\n",
    "words = \"spam egg sauce\"\n",
    "print(\"spam\" in words)\n",
    "print(\"tomato\" in words)"
   ]
  },
  {
   "cell_type": "code",
   "execution_count": 24,
   "id": "973eb824",
   "metadata": {},
   "outputs": [
    {
     "name": "stdout",
     "output_type": "stream",
     "text": [
      "5, 12\n"
     ]
    }
   ],
   "source": [
    "a = \"{x}, {y}\".format(x =5, y = 12)\n",
    "print(a)"
   ]
  },
  {
   "cell_type": "code",
   "execution_count": 25,
   "id": "8bfd3b94",
   "metadata": {},
   "outputs": [
    {
     "name": "stdout",
     "output_type": "stream",
     "text": [
      "WORD\n",
      "['spam', ' eggs', ' ham']\n"
     ]
    }
   ],
   "source": [
    "print(\"WoRd\".upper())\n",
    "print(\"spam, eggs, ham\".split(\",\"))"
   ]
  },
  {
   "cell_type": "code",
   "execution_count": 26,
   "id": "1a6bf2b4",
   "metadata": {},
   "outputs": [
    {
     "name": "stdout",
     "output_type": "stream",
     "text": [
      "True\n",
      "False\n",
      "True\n"
     ]
    }
   ],
   "source": [
    "nums = {\n",
    "    1: \"one\",\n",
    "    2: \"two\",\n",
    "    3: \"three\",\n",
    "}\n",
    "print(1 in nums)\n",
    "print(\"three\" in nums)\n",
    "print(4 not in nums)"
   ]
  },
  {
   "cell_type": "code",
   "execution_count": null,
   "id": "9834a46c",
   "metadata": {},
   "outputs": [],
   "source": [
    "word = list(input())\n",
    "print(word)\n",
    "length = int(len(word))\n",
    "a = 0\n",
    "#if a < length:\n",
    " #   a=a+1\n",
    "  #  print(book[word[a]])\n",
    "book = {\n",
    "    \"roar\":'Lion',\n",
    "    \"tweet\":'Bird',\n",
    "    \"moo\":'Cow'\n",
    "}\n",
    "print(book[word])\n",
    "#NEEDS A LOT OF WORK"
   ]
  },
  {
   "cell_type": "code",
   "execution_count": null,
   "id": "25b1f420",
   "metadata": {},
   "outputs": [],
   "source": []
  },
  {
   "cell_type": "code",
   "execution_count": null,
   "id": "ef6a0409",
   "metadata": {},
   "outputs": [],
   "source": []
  },
  {
   "cell_type": "code",
   "execution_count": null,
   "id": "40e67d12",
   "metadata": {},
   "outputs": [],
   "source": []
  },
  {
   "cell_type": "code",
   "execution_count": null,
   "id": "60027213",
   "metadata": {},
   "outputs": [],
   "source": []
  },
  {
   "cell_type": "code",
   "execution_count": null,
   "id": "41427b2b",
   "metadata": {},
   "outputs": [],
   "source": []
  },
  {
   "cell_type": "code",
   "execution_count": null,
   "id": "182f9f77",
   "metadata": {},
   "outputs": [],
   "source": []
  },
  {
   "cell_type": "code",
   "execution_count": null,
   "id": "18da5796",
   "metadata": {},
   "outputs": [],
   "source": []
  }
 ],
 "metadata": {
  "kernelspec": {
   "display_name": "Python 3",
   "language": "python",
   "name": "python3"
  },
  "language_info": {
   "codemirror_mode": {
    "name": "ipython",
    "version": 3
   },
   "file_extension": ".py",
   "mimetype": "text/x-python",
   "name": "python",
   "nbconvert_exporter": "python",
   "pygments_lexer": "ipython3",
   "version": "3.8.8"
  }
 },
 "nbformat": 4,
 "nbformat_minor": 5
}
