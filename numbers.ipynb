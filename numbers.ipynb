{
 "cells": [
  {
   "cell_type": "code",
   "execution_count": 2,
   "id": "d27a0027",
   "metadata": {},
   "outputs": [
    {
     "name": "stdout",
     "output_type": "stream",
     "text": [
      "Enter the first number: 5\n",
      "Enter the second number: 67\n",
      "Enter the third number: 45\n",
      "THE BIGGEST NUMBER IS 67\n"
     ]
    }
   ],
   "source": [
    "a = input(\"Enter the first number: \")\n",
    "b = input(\"Enter the second number: \")\n",
    "c = input(\"Enter the third number: \")\n",
    "numbers = [a, b, c]\n",
    "iter = 0\n",
    "other = iter + 1\n",
    "while iter < 2:\n",
    "    if numbers[iter] > numbers[other]:\n",
    "        biggest = numbers[iter]\n",
    "    else: biggest = numbers[other] \n",
    "    iter +=1\n",
    "    other +=1\n",
    "\n",
    "print(\"THE BIGGEST NUMBER IS \" + str(biggest))"
   ]
  },
  {
   "cell_type": "code",
   "execution_count": 8,
   "id": "7af152ef",
   "metadata": {},
   "outputs": [
    {
     "ename": "ModuleNotFoundError",
     "evalue": "No module named 'pyaudio'",
     "output_type": "error",
     "traceback": [
      "\u001b[1;31m---------------------------------------------------------------------------\u001b[0m",
      "\u001b[1;31mModuleNotFoundError\u001b[0m                       Traceback (most recent call last)",
      "\u001b[1;32m<ipython-input-8-e16b7ac4a8ea>\u001b[0m in \u001b[0;36m<module>\u001b[1;34m\u001b[0m\n\u001b[1;32m----> 1\u001b[1;33m \u001b[1;32mimport\u001b[0m \u001b[0mpyaudio\u001b[0m\u001b[1;33m\u001b[0m\u001b[1;33m\u001b[0m\u001b[0m\n\u001b[0m\u001b[0;32m      2\u001b[0m \u001b[1;32mimport\u001b[0m \u001b[0mwave\u001b[0m\u001b[1;33m\u001b[0m\u001b[1;33m\u001b[0m\u001b[0m\n\u001b[0;32m      3\u001b[0m \u001b[1;32mimport\u001b[0m \u001b[0msys\u001b[0m\u001b[1;33m\u001b[0m\u001b[1;33m\u001b[0m\u001b[0m\n\u001b[0;32m      4\u001b[0m \u001b[1;33m\u001b[0m\u001b[0m\n\u001b[0;32m      5\u001b[0m \u001b[0mCHUNK\u001b[0m \u001b[1;33m=\u001b[0m \u001b[1;36m1024\u001b[0m\u001b[1;33m\u001b[0m\u001b[1;33m\u001b[0m\u001b[0m\n",
      "\u001b[1;31mModuleNotFoundError\u001b[0m: No module named 'pyaudio'"
     ]
    }
   ],
   "source": [
    "import pyaudio\n",
    "import wave\n",
    "import sys\n",
    "\n",
    "CHUNK = 1024\n",
    "\n",
    "if len(sys.argv) < 2:\n",
    "    print(\"Plays a wave file.\\n\\nUsage: %s filename.wav\" % sys.argv[0])\n",
    "    sys.exit(-1)\n",
    "\n",
    "wf = wave.open(sys.argv[1], 'rb')\n",
    "\n",
    "# instantiate PyAudio (1)\n",
    "p = pyaudio.PyAudio()\n",
    "\n",
    "# open stream (2)\n",
    "stream = p.open(format=p.get_format_from_width(wf.getsampwidth()),\n",
    "                channels=wf.getnchannels(),\n",
    "                rate=wf.getframerate(),\n",
    "                output=True)\n",
    "\n",
    "# read data\n",
    "data = wf.readframes(CHUNK)\n",
    "\n",
    "# play stream (3)\n",
    "while len(data):\n",
    "    stream.write(data)\n",
    "    data = wf.readframes(CHUNK)\n",
    "\n",
    "# stop stream (4)\n",
    "stream.stop_stream()\n",
    "stream.close()\n",
    "\n",
    "# close PyAudio (5)\n",
    "p.terminate()"
   ]
  },
  {
   "cell_type": "code",
   "execution_count": null,
   "id": "78a40929",
   "metadata": {},
   "outputs": [],
   "source": [
    "pip install <numpy scipy pyqtgraph>\n",
    "#pip install pyaudio> "
   ]
  },
  {
   "cell_type": "code",
   "execution_count": 1,
   "id": "54ecfef0",
   "metadata": {},
   "outputs": [
    {
     "name": "stdout",
     "output_type": "stream",
     "text": [
      "Enter the amount of numbers: 6\n",
      "0\n",
      "1\n"
     ]
    }
   ],
   "source": [
    "start = 0\n",
    "base = int(input(\"Enter the amount of numbers: \"))\n",
    "i=0\n",
    "while i<=1:\n",
    "    print(i)\n",
    "    i+=1\n",
    "while start<=base:\n",
    "    j = i\n",
    "    i += j\n",
    "    start+=1\n",
    "#fibonnaci sequence?"
   ]
  },
  {
   "cell_type": "code",
   "execution_count": null,
   "id": "17ea4335",
   "metadata": {},
   "outputs": [],
   "source": []
  }
 ],
 "metadata": {
  "kernelspec": {
   "display_name": "Python 3",
   "language": "python",
   "name": "python3"
  },
  "language_info": {
   "codemirror_mode": {
    "name": "ipython",
    "version": 3
   },
   "file_extension": ".py",
   "mimetype": "text/x-python",
   "name": "python",
   "nbconvert_exporter": "python",
   "pygments_lexer": "ipython3",
   "version": "3.8.8"
  }
 },
 "nbformat": 4,
 "nbformat_minor": 5
}
